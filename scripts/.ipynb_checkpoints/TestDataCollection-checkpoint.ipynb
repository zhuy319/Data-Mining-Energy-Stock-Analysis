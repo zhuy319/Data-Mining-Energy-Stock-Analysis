{
 "cells": [
  {
   "cell_type": "markdown",
   "id": "ce338652",
   "metadata": {},
   "source": [
    "### CSC 373 / 673: Assignment 4\n",
    "#### Author: Ruiwen Yang, Jiayi Zhou, Yi Zhu"
   ]
  },
  {
   "cell_type": "markdown",
   "id": "30e42c25",
   "metadata": {},
   "source": [
    "#### Module Task\n",
    "Here we will collect our test dataset for prediction task."
   ]
  },
  {
   "cell_type": "code",
   "execution_count": 2,
   "id": "77125a5c-382a-4446-9b07-bb45ef615c6a",
   "metadata": {},
   "outputs": [],
   "source": [
    "import pandas_datareader as data\n",
    "import datetime as dt\n",
    "import pandas as pd\n",
    "import matplotlib.pyplot as plt\n",
    "import my_utils\n",
    "import clustering as clusterer\n",
    "from sklearn import preprocessing\n",
    "from sklearn.preprocessing import MinMaxScaler\n",
    "from matplotlib import pyplot as plt\n",
    "from sklearn.preprocessing import StandardScaler\n",
    "from sklearn.preprocessing import StandardScaler\n",
    "from sklearn.decomposition import PCA\n",
    "from sklearn.cluster import KMeans\n",
    "from sklearn.cluster import MiniBatchKMeans\n",
    "from sklearn.cluster import BisectingKMeans\n",
    "import yellowbrick\n",
    "from yellowbrick.cluster import KElbowVisualizer\n",
    "from yellowbrick.cluster import SilhouetteVisualizer\n",
    "from yellowbrick.cluster import InterclusterDistance\n",
    "from yellowbrick.model_selection import LearningCurve\n",
    "from sklearn.manifold import TSNE\n",
    "import seaborn as sns\n",
    "%matplotlib inline"
   ]
  },
  {
   "cell_type": "code",
   "execution_count": 3,
   "id": "bf890c35-4b4e-418c-8212-a79ecd542dbe",
   "metadata": {},
   "outputs": [],
   "source": [
    "#collect real test dataset\n",
    "data_source = 'yahoo'\n",
    "start_date = '2022-11-11'\n",
    "end_date = '2022-12-01'\n",
    "STEM = data.DataReader('STEM', data_source, start_date, end_date)\n",
    "FSLR = data.DataReader('FSLR', data_source, start_date, end_date)\n",
    "SEDG = data.DataReader('SEDG', data_source, start_date, end_date)\n",
    "ENPH = data.DataReader('ENPH', data_source, start_date, end_date)\n",
    "FREY = data.DataReader('FREY', data_source, start_date, end_date)\n",
    "ORA = data.DataReader('ORA', data_source, start_date, end_date)\n",
    "AES = data.DataReader('AES', data_source, start_date, end_date)\n",
    "NOVA = data.DataReader('NOVA', data_source, start_date, end_date)\n",
    "THR = data.DataReader('THR', data_source, start_date, end_date)"
   ]
  },
  {
   "cell_type": "code",
   "execution_count": 3,
   "id": "1127a71c-7192-46a8-93be-5a1105e3c931",
   "metadata": {},
   "outputs": [
    {
     "name": "stdout",
     "output_type": "stream",
     "text": [
      "Index(['High', 'Low', 'Open', 'Close', 'Volume', 'Adj Close', 'High', 'Low',\n",
      "       'Open', 'Close', 'Volume', 'Adj Close', 'High', 'Low', 'Open', 'Close',\n",
      "       'Volume', 'Adj Close', 'High', 'Low', 'Open', 'Close', 'Volume',\n",
      "       'Adj Close', 'High', 'Low', 'Open', 'Close', 'Volume', 'Adj Close',\n",
      "       'High', 'Low', 'Open', 'Close', 'Volume', 'Adj Close', 'High', 'Low',\n",
      "       'Open', 'Close', 'Volume', 'Adj Close', 'High', 'Low', 'Open', 'Close',\n",
      "       'Volume', 'Adj Close', 'High', 'Low', 'Open', 'Close', 'Volume',\n",
      "       'Adj Close', 'High', 'Low', 'Open', 'Close', 'Volume', 'Adj Close',\n",
      "       'High', 'Low', 'Open', 'Close', 'Volume', 'Adj Close', 'High', 'Low',\n",
      "       'Open', 'Close', 'Volume', 'Adj Close', 'High', 'Low', 'Open', 'Close',\n",
      "       'Volume', 'Adj Close'],\n",
      "      dtype='object')\n"
     ]
    }
   ],
   "source": [
    "df = pd.concat([STEM, FSLR, SEDG, ENPH, FREY, ORA, AES, NOVA, THR], axis=1)\n",
    "print(df.columns)"
   ]
  },
  {
   "cell_type": "code",
   "execution_count": 4,
   "id": "82795e23-5ddc-434c-9982-9aa64a6cc131",
   "metadata": {},
   "outputs": [],
   "source": [
    "labels = ['ORA','MNTK','VST','AES','AMPS','VVPR','CWEN','NOVA','AY','RNW','WAVE','ELLO']"
   ]
  },
  {
   "cell_type": "code",
   "execution_count": 5,
   "id": "5236abcf-688b-4e12-ad55-be47beb928c9",
   "metadata": {},
   "outputs": [],
   "source": [
    "df2 = df.set_axis(['High1','Low1', 'Open1', 'Close1','Volume1','Adj Close1','High2','Low2', 'Open2', 'Close2','Volume2','Adj Close2','High3','Low3', 'Open3', 'Close3','Volume3','Adj Close3','High4','Low4', 'Open4', 'Close4','Volume4','Adj Close4','High5','Low5', 'Open5', 'Close5','Volume5','Adj Close5','High6','Low6', 'Open6', 'Close6','Volume6','Adj Close6','High7','Low7', 'Open7', 'Close7','Volume7','Adj Close7','High8','Low8', 'Open8', 'Close8','Volume8','Adj Close8','High9','Low9', 'Open9', 'Close9','Volume9','Adj Close9','High10','Low10', 'Open10', 'Close10','Volume10','Adj Close10','High11','Low11', 'Open11', 'Close11','Volume11','Adj Close11','High12','Low12', 'Open12', 'Close12','Volume12','Adj Close12','High13','Low13', 'Open13', 'Close13','Volume13','Adj Close13'], axis=1, inplace=False)"
   ]
  }
 ],
 "metadata": {
  "kernelspec": {
   "display_name": "Python 3 (ipykernel)",
   "language": "python",
   "name": "python3"
  },
  "language_info": {
   "codemirror_mode": {
    "name": "ipython",
    "version": 3
   },
   "file_extension": ".py",
   "mimetype": "text/x-python",
   "name": "python",
   "nbconvert_exporter": "python",
   "pygments_lexer": "ipython3",
   "version": "3.10.2"
  }
 },
 "nbformat": 4,
 "nbformat_minor": 5
}
